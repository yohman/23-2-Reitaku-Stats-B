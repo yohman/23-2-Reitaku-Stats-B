{
 "cells": [
  {
   "cell_type": "code",
   "execution_count": null,
   "metadata": {},
   "outputs": [],
   "source": [
    "# libraries\n",
    "import numpy as np\n",
    "import seaborn as sns\n",
    "import matplotlib.pyplot as plt\n",
    "sns.set_theme()\n",
    "# Set the aesthetic style\n",
    "sns.set(style='whitegrid')"
   ]
  },
  {
   "cell_type": "code",
   "execution_count": null,
   "metadata": {},
   "outputs": [],
   "source": [
    "# Function to roll two dice and calculate their sums\n",
    "def roll_dice(num_rolls):\n",
    "    return np.random.randint(1, 7, size=(num_rolls, 2))\n"
   ]
  },
  {
   "cell_type": "code",
   "execution_count": null,
   "metadata": {},
   "outputs": [],
   "source": [
    "# Create the population by rolling two dice 1000 times\n",
    "n = 1000\n",
    "\n",
    "population = np.sum(roll_dice(n), axis=1)\n",
    "# population = np.random.normal(loc=500, scale=10, size=n)\n",
    "# population = np.random.gamma(shape=2, scale=2, size=n)\n",
    "# population = np.random.exponential(scale=2, size=n)\n",
    "\n",
    "# Draw random samples of different sizes and calculate their means\n",
    "sample_sizes = [5, 10, 30, 100]\n",
    "sample_means = []\n",
    "\n",
    "# Compute the means\n",
    "for size in sample_sizes:\n",
    "    means = [np.mean(np.sum(roll_dice(size), axis=1)) for _ in range(n)]\n",
    "    sample_means.append(means)\n",
    "\n",
    "# Plot the distributions of sample means for each sample size in one row\n",
    "num_plots = len(sample_sizes)\n",
    "plt.figure(figsize=(4 * num_plots, 4))\n",
    "\n",
    "# Plot the population\n",
    "sns.histplot(population, bins=30)\n",
    "plt.title(f'Population Distribution (n = {n})',size=20,pad=20)\n",
    "\n",
    "# Get consistent x and y limits for subplots\n",
    "x_range = (np.min(np.concatenate(sample_means)),np.max(np.concatenate(sample_means)))\n",
    "\n",
    "# Start the subplot\n",
    "fig, axs = plt.subplots(1, num_plots, figsize=(4 * num_plots, 4), constrained_layout=True, sharey=True)\n",
    "\n",
    "# Loop to draw each plot\n",
    "for i, (means, size) in enumerate(zip(sample_means, sample_sizes)):\n",
    "    ax = axs[i]\n",
    "    sns.histplot(means, kde=True, ax=ax, color='red')\n",
    "    ax.set_title(f'Sample Size: {size}')\n",
    "    ax.set_xlabel('Sample Means')\n",
    "    ax.set_ylabel('Density')\n",
    "    ax.set_xlim(x_range)\n",
    "\n",
    "plt.show();"
   ]
  },
  {
   "cell_type": "code",
   "execution_count": null,
   "metadata": {},
   "outputs": [],
   "source": []
  }
 ],
 "metadata": {
  "kernelspec": {
   "display_name": "geos",
   "language": "python",
   "name": "python3"
  },
  "language_info": {
   "codemirror_mode": {
    "name": "ipython",
    "version": 3
   },
   "file_extension": ".py",
   "mimetype": "text/x-python",
   "name": "python",
   "nbconvert_exporter": "python",
   "pygments_lexer": "ipython3",
   "version": "3.11.0"
  }
 },
 "nbformat": 4,
 "nbformat_minor": 2
}
