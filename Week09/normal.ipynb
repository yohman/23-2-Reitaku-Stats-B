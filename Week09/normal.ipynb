{
 "cells": [
  {
   "cell_type": "code",
   "execution_count": 5,
   "metadata": {},
   "outputs": [
    {
     "data": {
      "image/png": "[encoded data removed]",
      "text/plain": [
       "<Figure size 640x480 with 1 Axes>"
      ]
     },
     "metadata": {},
     "output_type": "display_data"
    }
   ],
   "source": [
    "import numpy as np\n",
    "import matplotlib.pyplot as plt\n",
    "from matplotlib.animation import FuncAnimation\n",
    "\n",
    "# Parameters for the normal distribution\n",
    "mean = 0\n",
    "std_dev = 1\n",
    "\n",
    "# Number of frames (time steps) in the animation\n",
    "num_frames = 100\n",
    "\n",
    "# Create a figure and axis for the animation\n",
    "fig, ax = plt.subplots()\n",
    "x = np.linspace(-3, 3, 1000)  # Range for x-axis\n",
    "\n",
    "# Initialize an empty line for the plot\n",
    "line, = ax.plot(x, np.zeros_like(x), lw=2)\n",
    "\n",
    "# Function to update the plot at each frame\n",
    "def update(frame):\n",
    "    ax.clear()  # Clear the previous frame\n",
    "    ax.set_xlim(-3, 3)  # Set the x-axis limits\n",
    "    ax.set_ylim(0, 0.5)  # Set the y-axis limits\n",
    "    ax.set_xlabel('Value')\n",
    "    ax.set_ylabel('Probability Density')\n",
    "    ax.set_title(f'Normal Distribution at Time Step {frame + 1}')\n",
    "    \n",
    "    # Calculate the PDF at the current time step\n",
    "    t = (frame / num_frames) * 3 - 1.5  # Adjust the time parameter\n",
    "    pdf = (1 / (std_dev * np.sqrt(2 * np.pi))) * np.exp(-(x - mean - t)**2 / (2 * std_dev**2))\n",
    "    \n",
    "    # Update the line with the new PDF values\n",
    "    line.set_data(x, pdf)\n",
    "\n",
    "# Create the animation and assign it to a variable\n",
    "ani = FuncAnimation(fig, update, frames=num_frames, repeat=False)\n",
    "\n",
    "# Display the animation\n",
    "plt.show()\n",
    "\n"
   ]
  },
  {
   "cell_type": "code",
   "execution_count": null,
   "metadata": {},
   "outputs": [],
   "source": []
  }
 ],
 "metadata": {
  "kernelspec": {
   "display_name": "geos",
   "language": "python",
   "name": "python3"
  },
  "language_info": {
   "codemirror_mode": {
    "name": "ipython",
    "version": 3
   },
   "file_extension": ".py",
   "mimetype": "text/x-python",
   "name": "python",
   "nbconvert_exporter": "python",
   "pygments_lexer": "ipython3",
   "version": "3.11.0"
  },
  "orig_nbformat": 4
 },
 "nbformat": 4,
 "nbformat_minor": 2
}
