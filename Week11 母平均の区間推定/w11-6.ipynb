{
 "cells": [
  {
   "cell_type": "markdown",
   "metadata": {},
   "source": [
    "# Confidence interval visualization\n",
    "\n",
    "The following script demonstrates a random selection of data from a population, drawing a single vertical line that represents a confidence interval with a black dot representing the mean for that selection. This is repeated 100 times, with a red line representing selections that did not include the population mean in within its confidence interval."
   ]
  },
  {
   "cell_type": "code",
   "execution_count": null,
   "metadata": {},
   "outputs": [],
   "source": [
    "import matplotlib\n",
    "import matplotlib.pyplot as plt\n",
    "\n",
    "# 日本語フォントを指定\n",
    "# matplotlib.rcParams['font.family'] = 'Hiragino Sans'\n",
    "matplotlib.rcParams['font.family'] = 'MS Gothic'\n",
    "\n",
    "import numpy as np\n",
    "import seaborn as sns\n",
    "import matplotlib.pyplot as plt\n",
    "import scipy.stats as stats"
   ]
  },
  {
   "cell_type": "code",
   "execution_count": null,
   "metadata": {},
   "outputs": [],
   "source": [
    "def tie(population_mean=50, population_size=100000, sample_size=10, num_samples=1, confidence_coefficient=0.95):\n",
    "    # パラメータ\n",
    "    # population_mean = 50  # 母集団の平均\n",
    "    # population_size = 100000  # 母集団のサイズ\n",
    "    # sample_size = 10  # サンプルのサイズ\n",
    "    # num_samples = 100  # サンプルの数\n",
    "    # confidence_coefficient = 0.95  # 信頼係数\n",
    "\n",
    "    # 正規分布に従う母集団を生成\n",
    "    population = np.random.normal(loc=population_mean, size=population_size,scale=10)\n",
    "\n",
    "    # サンプル平均と信頼区間を格納するための配列を初期化\n",
    "    sample_means = np.zeros(num_samples)\n",
    "    confidence_intervals = np.zeros((2, num_samples))\n",
    "\n",
    "    # グラフの幅を100%に設定\n",
    "    plt.figure(figsize=(15, 6))\n",
    "\n",
    "    # サンプルを生成し、サンプル平均と信頼区間を計算\n",
    "    for i in range(num_samples):\n",
    "        # 母集団からランダムにサンプルを選択\n",
    "        sample = np.random.choice(population, size=sample_size)\n",
    "        \n",
    "        # サンプルの平均と標準偏差を計算\n",
    "        sample_mean = np.mean(sample)\n",
    "        sample_std_dev = np.std(sample)\n",
    "        \n",
    "        # サンプル平均を格納\n",
    "        sample_means[i] = sample_mean\n",
    "        \n",
    "        # 平均の標準誤差を計算\n",
    "        sem = sample_std_dev / np.sqrt(sample_size)\n",
    "        \n",
    "        # 自由度を計算\n",
    "        degrees_of_freedom = sample_size - 1\n",
    "        \n",
    "        # 与えられた信頼係数と自由度に対するt値を計算\n",
    "        t_value = stats.t.ppf((1 + confidence_coefficient) / 2, degrees_of_freedom)\n",
    "        \n",
    "        # 信頼区間を計算\n",
    "        confidence_interval = [sample_mean - t_value * sem, sample_mean + t_value * sem]\n",
    "        confidence_intervals[:, i] = confidence_interval\n",
    "        \n",
    "        # サンプルを垂直線としてプロットし、その中心に平均を表示\n",
    "        if population_mean < confidence_interval[0] or population_mean > confidence_interval[1]:\n",
    "            plt.plot([i, i], [confidence_interval[0], confidence_interval[1]], color='red')\n",
    "        else:\n",
    "            plt.plot([i, i], [confidence_interval[0], confidence_interval[1]], color='blue')\n",
    "        plt.plot(i, sample_mean, 'ko')\n",
    "\n",
    "    # 母集団の平均を水平線としてプロット\n",
    "    plt.axhline(y=population_mean, color='green', linestyle='--', label='母集団の平均')\n",
    "\n",
    "    # プロットのラベルとタイトルを設定\n",
    "    plt.xlabel('サンプルインデックス')\n",
    "    plt.ylabel('サンプル平均')\n",
    "    plt.title('信頼区間付きのサンプル平均', fontsize=25,pad=20)\n",
    "\n",
    "    #　凡例を表示\n",
    "    plt.legend()\n",
    "\n",
    "    # グラフを表示\n",
    "    plt.show()"
   ]
  },
  {
   "cell_type": "code",
   "execution_count": null,
   "metadata": {},
   "outputs": [],
   "source": [
    "tie(num_samples=1,confidence_coefficient=0.95)"
   ]
  }
 ],
 "metadata": {
  "kernelspec": {
   "display_name": "geos",
   "language": "python",
   "name": "python3"
  },
  "language_info": {
   "codemirror_mode": {
    "name": "ipython",
    "version": 3
   },
   "file_extension": ".py",
   "mimetype": "text/x-python",
   "name": "python",
   "nbconvert_exporter": "python",
   "pygments_lexer": "ipython3",
   "version": "3.11.3"
  }
 },
 "nbformat": 4,
 "nbformat_minor": 2
}
