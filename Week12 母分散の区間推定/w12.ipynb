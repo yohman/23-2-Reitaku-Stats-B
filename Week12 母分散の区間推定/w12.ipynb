{
 "cells": [
  {
   "cell_type": "code",
   "execution_count": null,
   "metadata": {},
   "outputs": [],
   "source": [
    "import plotly.graph_objects as go\n",
    "import numpy as np\n",
    "from scipy.stats import chi2\n",
    "import matplotlib.pyplot as plt\n",
    "import seaborn as sns\n",
    "import pandas as pd\n",
    "import seaborn as sns\n",
    "import matplotlib.pyplot as plt\n",
    "\n",
    "# Set the theme\n",
    "sns.set_theme()\n"
   ]
  },
  {
   "cell_type": "markdown",
   "metadata": {},
   "source": [
    "## Binomial distribution example of coin flips"
   ]
  },
  {
   "cell_type": "code",
   "execution_count": null,
   "metadata": {},
   "outputs": [],
   "source": [
    "from scipy.stats import binom\n",
    "\n",
    "# Set the number of coin flips\n",
    "num_flips = 100\n",
    "\n",
    "# Set the probability of heads (success)\n",
    "p = 0.5\n",
    "\n",
    "# Generate the binomial distribution\n",
    "x = np.arange(0, num_flips + 1)\n",
    "y = binom.pmf(x, num_flips, p)\n",
    "\n",
    "# Calculate the mean and standard deviation of the binomial distribution\n",
    "mean = num_flips * p\n",
    "std = np.sqrt(num_flips * p * (1 - p))\n",
    "\n",
    "# Create a normal distribution with the same mean and standard deviation\n",
    "normal_dist = np.random.normal(mean, std, size=10000)\n",
    "\n",
    "# Plot the binomial distribution and the normal distribution\n",
    "plt.figure(figsize=(10, 6))\n",
    "plt.plot(x, y, label='Binomial Distribution')\n",
    "plt.hist(normal_dist, bins=30, density=True, alpha=0.5, label='Normal Distribution')\n",
    "plt.xlabel('Number of Heads')\n",
    "plt.ylabel('Probability')\n",
    "plt.title('Binomial Distribution vs Normal Distribution')\n",
    "plt.legend()\n",
    "plt.show()\n"
   ]
  },
  {
   "cell_type": "code",
   "execution_count": null,
   "metadata": {},
   "outputs": [],
   "source": [
    "import numpy as np\n",
    "import matplotlib.pyplot as plt\n",
    "\n",
    "# Set the lambda parameter for the Poisson distribution\n",
    "lambda_param = 3\n",
    "\n",
    "# Generate the sample data\n",
    "sample_data = np.random.poisson(lambda_param, size=1000)\n",
    "\n",
    "# Plot the Poisson distribution\n",
    "plt.figure(figsize=(10, 6))\n",
    "plt.hist(sample_data, bins=20, density=True, alpha=0.5)\n",
    "plt.xlabel('Value')\n",
    "plt.ylabel('Probability')\n",
    "plt.title('Poisson Distribution')\n",
    "plt.show()\n"
   ]
  },
  {
   "cell_type": "markdown",
   "metadata": {},
   "source": [
    "# Variance comparison between two varying datasets"
   ]
  },
  {
   "cell_type": "code",
   "execution_count": null,
   "metadata": {},
   "outputs": [],
   "source": [
    "# Step 1: Generate two datasets\n",
    "# np.random.seed(0)\n",
    "maguro_weight = np.random.normal(loc=50, scale=5, size=1000)\n",
    "all_kinds_of_fish_weight = np.random.normal(loc=50, scale=15, size=1000)\n",
    "\n",
    "# Step 2: Calculate the variance of each dataset\n",
    "allkinds_variance = np.var(all_kinds_of_fish_weight)\n",
    "maguro_variance = np.var(maguro_weight)\n",
    "\n",
    "# Step 3: Find the interval estimate using chi-squared values\n",
    "alpha = 0.05  # significance level\n",
    "df = len(all_kinds_of_fish_weight) - 1  # degrees of freedom\n",
    "chi2_critical_value = chi2.ppf(1 - alpha / 2, df)\n",
    "\n",
    "high_variability_interval = (\n",
    "    (df * allkinds_variance) / chi2_critical_value,\n",
    "    (df * allkinds_variance) / chi2.ppf(alpha / 2, df)\n",
    ")\n",
    "\n",
    "low_variability_interval = (\n",
    "    (df * maguro_variance) / chi2_critical_value,\n",
    "    (df * maguro_variance) / chi2.ppf(alpha / 2, df)\n",
    ")\n",
    "\n",
    "# Step 4: Create subplots for histograms and variance estimates\n",
    "fig, axs = plt.subplots(1, 2, figsize=(12, 6))\n",
    "\n",
    "# Step 5: Plot the histograms of the two datasets\n",
    "axs[0].hist(all_kinds_of_fish_weight, bins=30, alpha=0.5, label='All Kinds of Fish Weight')\n",
    "axs[0].hist(maguro_weight, bins=30, alpha=0.5, label='Maguro Weight')\n",
    "axs[0].set_xlabel('Data')\n",
    "axs[0].set_ylabel('Frequency')\n",
    "axs[0].set_title('Comparison of Variability')\n",
    "axs[0].legend()\n",
    "\n",
    "# Step 6: Take a sample from each dataset\n",
    "sample_size = 100\n",
    "all_kinds_sample = np.random.choice(all_kinds_of_fish_weight, size=sample_size)\n",
    "maguro_sample = np.random.choice(maguro_weight, size=sample_size)\n",
    "\n",
    "# Step 7: Estimate variance intervals at 95% confidence using chi-squared critical values\n",
    "all_kinds_sample_variance = np.var(all_kinds_sample)\n",
    "maguro_sample_variance = np.var(maguro_sample)\n",
    "\n",
    "all_kinds_sample_interval = (\n",
    "    (sample_size - 1) * all_kinds_sample_variance / chi2_critical_value,\n",
    "    (sample_size - 1) * all_kinds_sample_variance / chi2.ppf(alpha / 2, sample_size - 1)\n",
    ")\n",
    "\n",
    "maguro_sample_interval = (\n",
    "    (sample_size - 1) * maguro_sample_variance / chi2_critical_value,\n",
    "    (sample_size - 1) * maguro_sample_variance / chi2.ppf(alpha / 2, sample_size - 1)\n",
    ")\n",
    "\n",
    "# Step 8: Plot the estimates and intervals\n",
    "axs[1].errorbar([0, 1], [all_kinds_sample_variance, maguro_sample_variance],\n",
    "             yerr=[[abs(all_kinds_sample_interval[0] - all_kinds_sample_variance),\n",
    "                    abs(maguro_sample_interval[0] - maguro_sample_variance)],\n",
    "                   [abs(all_kinds_sample_variance - all_kinds_sample_interval[1]),\n",
    "                    abs(maguro_sample_variance - maguro_sample_interval[1])]],\n",
    "             fmt='o', capsize=5)\n",
    "axs[1].set_xticks([0, 1])\n",
    "axs[1].set_xticklabels(['All Kinds of Fish Weight', 'Maguro Weight'])\n",
    "axs[1].set_ylabel('Variance')\n",
    "axs[1].set_title('Comparison of Variance Estimates')\n",
    "\n",
    "# Step 9: Display the subplots\n",
    "plt.tight_layout()\n",
    "plt.show()\n"
   ]
  },
  {
   "cell_type": "markdown",
   "metadata": {},
   "source": [
    "## Frequency distribution of sample means -> normal distribution"
   ]
  },
  {
   "cell_type": "code",
   "execution_count": null,
   "metadata": {},
   "outputs": [],
   "source": [
    "def plot_sample_means(sample_size=4, num_samples=1000):\n",
    "    sample_means = []\n",
    "\n",
    "    for _ in range(num_samples):\n",
    "        sample = np.random.choice(maguro_weight, size=sample_size)\n",
    "        sample_mean = np.mean(sample)\n",
    "        sample_means.append(sample_mean)\n",
    "\n",
    "    # Create the plot\n",
    "    plt.figure(figsize=(16, 6))  # Set the plot width to 100%\n",
    "    sns.histplot(sample_means, bins=50, kde=True)  # Add kde=True to draw the KDE line\n",
    "    plt.xlabel('Mean')\n",
    "    plt.ylabel('Frequency')\n",
    "    plt.title('Frequency Distribution of Sample Means', fontsize=25,pad=20)\n",
    "    plt.tight_layout()\n",
    "    plt.show()\n"
   ]
  },
  {
   "cell_type": "code",
   "execution_count": null,
   "metadata": {},
   "outputs": [],
   "source": [
    "plot_sample_means(4, 1000)"
   ]
  },
  {
   "cell_type": "markdown",
   "metadata": {},
   "source": [
    "## Frequency distribution of sample variances -> chi-squared distribution"
   ]
  },
  {
   "cell_type": "code",
   "execution_count": null,
   "metadata": {},
   "outputs": [],
   "source": [
    "def plot_sample_variances(sample_size=4, num_samples=1000):\n",
    "    sample_variances = []\n",
    "\n",
    "    for _ in range(num_samples):\n",
    "        sample = np.random.choice(maguro_weight, size=sample_size)\n",
    "        sample_variance = np.var(sample)\n",
    "        sample_variances.append(sample_variance)\n",
    "\n",
    "    # Create the plot\n",
    "    plt.figure(figsize=(16, 6))  # Set the plot width to 100%\n",
    "    sns.histplot(sample_variances, bins=50, kde=True)  # Add kde=True to draw the KDE line\n",
    "    plt.xlabel('Variance')\n",
    "    plt.ylabel('Frequency')\n",
    "    plt.title('Frequency Distribution of Sample Variances', fontsize=25,pad=20)\n",
    "    plt.tight_layout()\n",
    "    plt.show()\n"
   ]
  },
  {
   "cell_type": "code",
   "execution_count": null,
   "metadata": {},
   "outputs": [],
   "source": [
    "plot_sample_variances(5, 1000)"
   ]
  },
  {
   "cell_type": "markdown",
   "metadata": {},
   "source": [
    "Here is what the chi-squared distribution looks like with varying degrees of freedom"
   ]
  },
  {
   "cell_type": "code",
   "execution_count": null,
   "metadata": {},
   "outputs": [],
   "source": [
    "\n",
    "# Set the degrees of freedom\n",
    "degrees_of_freedom = [1, 2, 3, 4, 5, 6,7,8,9,10,20]\n",
    "\n",
    "# Set the x-axis range\n",
    "x = np.linspace(0, 50, 100)\n",
    "\n",
    "# Create a figure\n",
    "fig = go.Figure()\n",
    "\n",
    "# Plot the chi-squared distributions\n",
    "for i, df in enumerate(degrees_of_freedom):\n",
    "    y = chi2.pdf(x, df)\n",
    "    color = f\"rgb(0, 0, {i * (255 // len(degrees_of_freedom))})\"\n",
    "    fig.add_trace(go.Scatter(x=x, y=y, mode='lines', name=f\"df={df}\", line=dict(color=color)))\n",
    "\n",
    "# Set the plot title and labels\n",
    "fig.update_layout(title=\"Chi-Squared Distribution\", xaxis_title=\"Value\", yaxis_title=\"Density\")\n",
    "\n",
    "# Update the height of the figure layout\n",
    "fig.update_layout(height=600)\n",
    "\n",
    "# Show the plot\n",
    "fig.show()\n"
   ]
  },
  {
   "cell_type": "markdown",
   "metadata": {},
   "source": [
    "Now we creeate a function that generates a plot that shows the lower and upper values of a given confidence interval for a chi-squared distribution."
   ]
  },
  {
   "cell_type": "code",
   "execution_count": null,
   "metadata": {},
   "outputs": [],
   "source": [
    "import seaborn as sns\n",
    "\n",
    "def plot_chi_squared(df, confidence_interval):\n",
    "    # Calculate the chi-squared distribution\n",
    "    y = chi2.pdf(x, df)\n",
    "\n",
    "    # Create the plot\n",
    "    sns.lineplot(x=x, y=y, label=f\"df={df}\")\n",
    "    plt.axvline(chi2.ppf(confidence_interval[0], df), color='red', linestyle='--', label=f'Lower Limit: {chi2.ppf(confidence_interval[0], df):.4f}')\n",
    "    plt.axvline(chi2.ppf(confidence_interval[1], df), color='green', linestyle='--', label=f'Upper Limit: {chi2.ppf(confidence_interval[1], df):.4f}')\n",
    "\n",
    "    # Color the area under the curve\n",
    "    x_fill = np.linspace(chi2.ppf(confidence_interval[0], df), chi2.ppf(confidence_interval[1], df), 100)\n",
    "    y_fill = chi2.pdf(x_fill, df)\n",
    "    plt.fill_between(x_fill, y_fill, alpha=0.3, color='blue', label='Area under the curve')\n",
    "\n",
    "    # Set the plot title and labels\n",
    "    plt.title(\"Chi-Squared Distribution\")\n",
    "    plt.xlabel(\"Value\")\n",
    "    plt.ylabel(\"Density\")\n",
    "\n",
    "    # Set the x-axis limits to start from 0\n",
    "    plt.ylim(0)\n",
    "    plt.xlim(0)\n",
    "\n",
    "    # Move the legend outside the plot\n",
    "    plt.legend(bbox_to_anchor=(1.05, 1), loc='upper left')\n",
    "\n",
    "    # Show the plot\n",
    "    plt.show()\n"
   ]
  },
  {
   "cell_type": "code",
   "execution_count": null,
   "metadata": {},
   "outputs": [],
   "source": [
    "# Example usage\n",
    "degrees_of_freedom = 4\n",
    "confidence_interval = (0.025, 0.975)\n",
    "plot_chi_squared(degrees_of_freedom, confidence_interval)\n"
   ]
  }
 ],
 "metadata": {
  "kernelspec": {
   "display_name": "geos",
   "language": "python",
   "name": "python3"
  },
  "language_info": {
   "codemirror_mode": {
    "name": "ipython",
    "version": 3
   },
   "file_extension": ".py",
   "mimetype": "text/x-python",
   "name": "python",
   "nbconvert_exporter": "python",
   "pygments_lexer": "ipython3",
   "version": "3.11.0"
  }
 },
 "nbformat": 4,
 "nbformat_minor": 2
}
